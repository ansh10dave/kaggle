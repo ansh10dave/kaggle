{
 "cells": [
  {
   "cell_type": "markdown",
   "id": "72862857",
   "metadata": {},
   "source": [
    "## Brain Stroke Prediction"
   ]
  },
  {
   "cell_type": "code",
   "execution_count": 1,
   "id": "30b2b58b",
   "metadata": {},
   "outputs": [
    {
     "name": "stdout",
     "output_type": "stream",
     "text": [
      "22/07/29 16:00:43 WARN Utils: Your hostname, Dave-GF65 resolves to a loopback address: 127.0.1.1; using 192.168.1.3 instead (on interface wlo1)\n",
      "22/07/29 16:00:43 WARN Utils: Set SPARK_LOCAL_IP if you need to bind to another address\n"
     ]
    },
    {
     "name": "stderr",
     "output_type": "stream",
     "text": [
      "Setting default log level to \"WARN\".\n",
      "To adjust logging level use sc.setLogLevel(newLevel). For SparkR, use setLogLevel(newLevel).\n"
     ]
    },
    {
     "name": "stdout",
     "output_type": "stream",
     "text": [
      "22/07/29 16:00:44 WARN NativeCodeLoader: Unable to load native-hadoop library for your platform... using builtin-java classes where applicable\n"
     ]
    }
   ],
   "source": [
    "import findspark \n",
    "findspark.find() \n",
    "findspark.init() \n",
    "import pyspark \n",
    "from pyspark import SparkContext\n",
    "from pyspark.sql.session import SparkSession\n",
    "sc = SparkContext.getOrCreate()\n",
    "spark = SparkSession(sc)  "
   ]
  },
  {
   "cell_type": "code",
   "execution_count": 2,
   "id": "d59bd02b",
   "metadata": {},
   "outputs": [],
   "source": [
    "import numpy as np \n",
    "import pandas as pd \n",
    "import matplotlib.pyplot as plt  \n",
    "from pyspark.ml.feature import StringIndexer \n",
    "from pyspark.ml.feature import OneHotEncoder \n",
    "from pyspark.ml.feature import VectorAssembler \n",
    "from pyspark.ml.linalg import Vectors \n",
    "from pyspark.ml.feature import Normalizer "
   ]
  },
  {
   "cell_type": "code",
   "execution_count": 3,
   "id": "668f97be",
   "metadata": {},
   "outputs": [],
   "source": [
    "df = spark.read.csv('brain_stroke_df.csv', header=True)"
   ]
  },
  {
   "cell_type": "code",
   "execution_count": 4,
   "id": "367345dd",
   "metadata": {},
   "outputs": [
    {
     "name": "stdout",
     "output_type": "stream",
     "text": [
      "+-----+------+----+------------+-------------+------------+-------------+--------------+-----------------+------------------+---------------+------+\n",
      "|   id|gender| age|hypertension|heart_disease|ever_married|    work_type|Residence_type|avg_glucose_level|               bmi| smoking_status|stroke|\n",
      "+-----+------+----+------------+-------------+------------+-------------+--------------+-----------------+------------------+---------------+------+\n",
      "| 9046|  Male|67.0|           0|            1|         Yes|      Private|         Urban|           228.69|              36.6|formerly smoked|     1|\n",
      "|51676|Female|61.0|           0|            0|         Yes|Self-employed|         Rural|           202.21|28.894559902200502|   never smoked|     1|\n",
      "|31112|  Male|80.0|           0|            1|         Yes|      Private|         Rural|           105.92|              32.5|   never smoked|     1|\n",
      "|60182|Female|49.0|           0|            0|         Yes|      Private|         Urban|           171.23|              34.4|         smokes|     1|\n",
      "| 1665|Female|79.0|           1|            0|         Yes|Self-employed|         Rural|           174.12|              24.0|   never smoked|     1|\n",
      "|56669|  Male|81.0|           0|            0|         Yes|      Private|         Urban|           186.21|              29.0|formerly smoked|     1|\n",
      "|53882|  Male|74.0|           1|            1|         Yes|      Private|         Rural|            70.09|              27.4|   never smoked|     1|\n",
      "|10434|Female|69.0|           0|            0|          No|      Private|         Urban|            94.39|              22.8|   never smoked|     1|\n",
      "|27419|Female|59.0|           0|            0|         Yes|      Private|         Rural|            76.15|28.894559902200502|        Unknown|     1|\n",
      "|60491|Female|78.0|           0|            0|         Yes|      Private|         Urban|            58.57|              24.2|        Unknown|     1|\n",
      "|12109|Female|81.0|           1|            0|         Yes|      Private|         Rural|            80.43|              29.7|   never smoked|     1|\n",
      "|12095|Female|61.0|           0|            1|         Yes|     Govt_job|         Rural|           120.46|              36.8|         smokes|     1|\n",
      "|12175|Female|54.0|           0|            0|         Yes|      Private|         Urban|           104.51|              27.3|         smokes|     1|\n",
      "| 8213|  Male|78.0|           0|            1|         Yes|      Private|         Urban|           219.84|28.894559902200502|        Unknown|     1|\n",
      "| 5317|Female|79.0|           0|            1|         Yes|      Private|         Urban|           214.09|              28.2|   never smoked|     1|\n",
      "|58202|Female|50.0|           1|            0|         Yes|Self-employed|         Rural|           167.41|              30.9|   never smoked|     1|\n",
      "|56112|  Male|64.0|           0|            1|         Yes|      Private|         Urban|           191.61|              37.5|         smokes|     1|\n",
      "|34120|  Male|75.0|           1|            0|         Yes|      Private|         Urban|           221.29|              25.8|         smokes|     1|\n",
      "|27458|Female|60.0|           0|            0|          No|      Private|         Urban|            89.22|              37.8|   never smoked|     1|\n",
      "|25226|  Male|57.0|           0|            1|          No|     Govt_job|         Urban|           217.08|28.894559902200502|        Unknown|     1|\n",
      "+-----+------+----+------------+-------------+------------+-------------+--------------+-----------------+------------------+---------------+------+\n",
      "only showing top 20 rows\n",
      "\n"
     ]
    }
   ],
   "source": [
    "df.show() "
   ]
  },
  {
   "cell_type": "code",
   "execution_count": 38,
   "id": "42996e57",
   "metadata": {},
   "outputs": [],
   "source": [
    "indexer = StringIndexer(inputCols=['gender','ever_married', 'Residence_type', 'work_type', 'smoking_status'\n",
    "                                  ], \n",
    "                        outputCols=['gender_index', 'ever_married_index', 'Residence_type_index', \n",
    "                                   'work_type_index', 'smoking_status_index']) "
   ]
  },
  {
   "cell_type": "code",
   "execution_count": 39,
   "id": "76caf1eb",
   "metadata": {},
   "outputs": [
    {
     "data": {
      "text/plain": [
       "[('id', 'string'),\n",
       " ('gender', 'string'),\n",
       " ('age', 'int'),\n",
       " ('hypertension', 'int'),\n",
       " ('heart_disease', 'int'),\n",
       " ('ever_married', 'string'),\n",
       " ('work_type', 'string'),\n",
       " ('Residence_type', 'string'),\n",
       " ('avg_glucose_level', 'int'),\n",
       " ('bmi', 'int'),\n",
       " ('smoking_status', 'string'),\n",
       " ('stroke', 'string'),\n",
       " ('gender_index', 'double'),\n",
       " ('ever_married_index', 'double'),\n",
       " ('Residence_type_index', 'double'),\n",
       " ('work_type_index', 'double'),\n",
       " ('smoking_status_index', 'double'),\n",
       " ('stroke_index', 'double')]"
      ]
     },
     "execution_count": 39,
     "metadata": {},
     "output_type": "execute_result"
    }
   ],
   "source": [
    "indexed.dtypes"
   ]
  },
  {
   "cell_type": "code",
   "execution_count": 40,
   "id": "4a5fbf15",
   "metadata": {},
   "outputs": [],
   "source": [
    "encoder = OneHotEncoder(inputCols=['work_type_index', 'smoking_status_index','stroke'], \n",
    "                       outputCols=['work_type_hot', 'smoking_status_hot','stroke_hot']) \n"
   ]
  },
  {
   "cell_type": "code",
   "execution_count": 41,
   "id": "8aac1284",
   "metadata": {},
   "outputs": [],
   "source": [
    "vectorAssembler = VectorAssembler(inputCols=['gender_index', 'age', 'hypertension', 'heart_disease', \n",
    "                                            'ever_married_index', 'work_type_hot', 'Residence_type_index', \n",
    "                                            'avg_glucose_level', 'bmi', 'smoking_status_hot'], \n",
    "                                 outputCol='features') "
   ]
  },
  {
   "cell_type": "code",
   "execution_count": 42,
   "id": "11f83b18",
   "metadata": {},
   "outputs": [],
   "source": [
    "normalizer = Normalizer(inputCol='features', outputCol='features_norm', p=1.0)   "
   ]
  },
  {
   "cell_type": "code",
   "execution_count": 43,
   "id": "81011d99",
   "metadata": {},
   "outputs": [],
   "source": [
    "from pyspark.ml.classification import GBTClassifier\n",
    "\n",
    "classifier = GBTClassifier(labelCol='stroke', featuresCol='features_norm', maxIter=10)\n"
   ]
  },
  {
   "cell_type": "code",
   "execution_count": 44,
   "id": "2ce0559a",
   "metadata": {},
   "outputs": [
    {
     "name": "stdout",
     "output_type": "stream",
     "text": [
      "+-----+------+---+------------+-------------+------------+-------------+--------------+-----------------+---+---------------+------+------------+------------------+--------------------+---------------+--------------------+-------------+------------------+----------+--------------------+--------------------+--------------------+--------------------+----------+\n",
      "|   id|gender|age|hypertension|heart_disease|ever_married|    work_type|Residence_type|avg_glucose_level|bmi| smoking_status|stroke|gender_index|ever_married_index|Residence_type_index|work_type_index|smoking_status_index|work_type_hot|smoking_status_hot|stroke_hot|            features|       features_norm|       rawPrediction|         probability|prediction|\n",
      "+-----+------+---+------------+-------------+------------+-------------+--------------+-----------------+---+---------------+------+------------+------------------+--------------------+---------------+--------------------+-------------+------------------+----------+--------------------+--------------------+--------------------+--------------------+----------+\n",
      "| 9046|  Male| 67|           0|            1|         Yes|      Private|         Urban|              228| 36|formerly smoked|     1|         1.0|               0.0|                 0.0|            0.0|                 2.0|(4,[0],[1.0])|     (3,[2],[1.0])| (1,[],[])|(15,[0,1,3,5,10,1...|(15,[0,1,3,5,10,1...|[0.65015430224937...|[0.78588691609292...|       0.0|\n",
      "|51676|Female| 61|           0|            0|         Yes|Self-employed|         Rural|              202| 28|   never smoked|     1|         0.0|               0.0|                 1.0|            1.0|                 0.0|(4,[1],[1.0])|     (3,[0],[1.0])| (1,[],[])|(15,[1,6,9,10,11,...|(15,[1,6,9,10,11,...|[0.83598702900468...|[0.84183883689666...|       0.0|\n",
      "|31112|  Male| 80|           0|            1|         Yes|      Private|         Rural|              105| 32|   never smoked|     1|         1.0|               0.0|                 1.0|            0.0|                 0.0|(4,[0],[1.0])|     (3,[0],[1.0])| (1,[],[])|(15,[0,1,3,5,9,10...|(15,[0,1,3,5,9,10...|[0.84268231965137...|[0.84361359172168...|       0.0|\n",
      "|60182|Female| 49|           0|            0|         Yes|      Private|         Urban|              171| 34|         smokes|     1|         0.0|               0.0|                 0.0|            0.0|                 3.0|(4,[0],[1.0])|         (3,[],[])| (1,[],[])|(15,[1,5,10,11],[...|(15,[1,5,10,11],[...|[1.18102016165574...|[0.91388651043276...|       0.0|\n",
      "| 1665|Female| 79|           1|            0|         Yes|Self-employed|         Rural|              174| 24|   never smoked|     1|         0.0|               0.0|                 1.0|            1.0|                 0.0|(4,[1],[1.0])|     (3,[0],[1.0])| (1,[],[])|(15,[1,2,6,9,10,1...|(15,[1,2,6,9,10,1...|[0.67709707642098...|[0.79481447501208...|       0.0|\n",
      "|56669|  Male| 81|           0|            0|         Yes|      Private|         Urban|              186| 29|formerly smoked|     1|         1.0|               0.0|                 0.0|            0.0|                 2.0|(4,[0],[1.0])|     (3,[2],[1.0])| (1,[],[])|(15,[0,1,5,10,11,...|(15,[0,1,5,10,11,...|[0.68736663693932...|[0.79814380883965...|       0.0|\n",
      "|53882|  Male| 74|           1|            1|         Yes|      Private|         Rural|               70| 27|   never smoked|     1|         1.0|               0.0|                 1.0|            0.0|                 0.0|(4,[0],[1.0])|     (3,[0],[1.0])| (1,[],[])|[1.0,74.0,1.0,1.0...|[0.00564971751412...|[0.62357556017918...|[0.77680631690799...|       0.0|\n",
      "|10434|Female| 69|           0|            0|          No|      Private|         Urban|               94| 22|   never smoked|     1|         0.0|               1.0|                 0.0|            0.0|                 0.0|(4,[0],[1.0])|     (3,[0],[1.0])| (1,[],[])|(15,[1,4,5,10,11,...|(15,[1,4,5,10,11,...|[0.80051321719682...|[0.83216179461111...|       0.0|\n",
      "|27419|Female| 59|           0|            0|         Yes|      Private|         Rural|               76| 28|        Unknown|     1|         0.0|               0.0|                 1.0|            0.0|                 1.0|(4,[0],[1.0])|     (3,[1],[1.0])| (1,[],[])|(15,[1,5,9,10,11,...|(15,[1,5,9,10,11,...|[0.94505945036098...|[0.86876908695114...|       0.0|\n",
      "|60491|Female| 78|           0|            0|         Yes|      Private|         Urban|               58| 24|        Unknown|     1|         0.0|               0.0|                 0.0|            0.0|                 1.0|(4,[0],[1.0])|     (3,[1],[1.0])| (1,[],[])|(15,[1,5,10,11,13...|(15,[1,5,10,11,13...|[0.79414443805447...|[0.83037522371266...|       0.0|\n",
      "|12109|Female| 81|           1|            0|         Yes|      Private|         Rural|               80| 29|   never smoked|     1|         0.0|               0.0|                 1.0|            0.0|                 0.0|(4,[0],[1.0])|     (3,[0],[1.0])| (1,[],[])|(15,[1,2,5,9,10,1...|(15,[1,2,5,9,10,1...|[0.66598897160387...|[0.79116762157412...|       0.0|\n",
      "|12095|Female| 61|           0|            1|         Yes|     Govt_job|         Rural|              120| 36|         smokes|     1|         0.0|               0.0|                 1.0|            3.0|                 3.0|(4,[3],[1.0])|         (3,[],[])| (1,[],[])|(15,[1,3,8,9,10,1...|(15,[1,3,8,9,10,1...|[0.70466415385927...|[0.80365997851166...|       0.0|\n",
      "|12175|Female| 54|           0|            0|         Yes|      Private|         Urban|              104| 27|         smokes|     1|         0.0|               0.0|                 0.0|            0.0|                 3.0|(4,[0],[1.0])|         (3,[],[])| (1,[],[])|(15,[1,5,10,11],[...|(15,[1,5,10,11],[...|[1.04456793709563...|[0.88984275028315...|       0.0|\n",
      "| 8213|  Male| 78|           0|            1|         Yes|      Private|         Urban|              219| 28|        Unknown|     1|         1.0|               0.0|                 0.0|            0.0|                 1.0|(4,[0],[1.0])|     (3,[1],[1.0])| (1,[],[])|(15,[0,1,3,5,10,1...|(15,[0,1,3,5,10,1...|[0.48591319024450...|[0.72548338444739...|       0.0|\n",
      "| 5317|Female| 79|           0|            1|         Yes|      Private|         Urban|              214| 28|   never smoked|     1|         0.0|               0.0|                 0.0|            0.0|                 0.0|(4,[0],[1.0])|     (3,[0],[1.0])| (1,[],[])|(15,[1,3,5,10,11,...|(15,[1,3,5,10,11,...|[0.48591319024450...|[0.72548338444739...|       0.0|\n",
      "|58202|Female| 50|           1|            0|         Yes|Self-employed|         Rural|              167| 30|   never smoked|     1|         0.0|               0.0|                 1.0|            1.0|                 0.0|(4,[1],[1.0])|     (3,[0],[1.0])| (1,[],[])|(15,[1,2,6,9,10,1...|(15,[1,2,6,9,10,1...|[0.92150671215600...|[0.86330471016540...|       0.0|\n",
      "|56112|  Male| 64|           0|            1|         Yes|      Private|         Urban|              191| 37|         smokes|     1|         1.0|               0.0|                 0.0|            0.0|                 3.0|(4,[0],[1.0])|         (3,[],[])| (1,[],[])|(15,[0,1,3,5,10,1...|(15,[0,1,3,5,10,1...|[1.11632739182572...|[0.90314383501475...|       0.0|\n",
      "|34120|  Male| 75|           1|            0|         Yes|      Private|         Urban|              221| 25|         smokes|     1|         1.0|               0.0|                 0.0|            0.0|                 3.0|(4,[0],[1.0])|         (3,[],[])| (1,[],[])|(15,[0,1,2,5,10,1...|(15,[0,1,2,5,10,1...|[0.67307280557617...|[0.79349876837475...|       0.0|\n",
      "|27458|Female| 60|           0|            0|          No|      Private|         Urban|               89| 37|   never smoked|     1|         0.0|               1.0|                 0.0|            0.0|                 0.0|(4,[0],[1.0])|     (3,[0],[1.0])| (1,[],[])|(15,[1,4,5,10,11,...|(15,[1,4,5,10,11,...|[1.10758952715866...|[0.90160433781171...|       0.0|\n",
      "|25226|  Male| 57|           0|            1|          No|     Govt_job|         Urban|              217| 28|        Unknown|     1|         1.0|               1.0|                 0.0|            3.0|                 1.0|(4,[3],[1.0])|     (3,[1],[1.0])| (1,[],[])|(15,[0,1,3,4,8,10...|(15,[0,1,3,4,8,10...|[-0.4120392223206...|[0.30489860577473...|       1.0|\n",
      "+-----+------+---+------------+-------------+------------+-------------+--------------+-----------------+---+---------------+------+------------+------------------+--------------------+---------------+--------------------+-------------+------------------+----------+--------------------+--------------------+--------------------+--------------------+----------+\n",
      "only showing top 20 rows\n",
      "\n"
     ]
    }
   ],
   "source": [
    "from pyspark.ml import Pipeline \n",
    "\n",
    "pipeline = Pipeline(stages=[indexer,encoder,vectorAssembler,normalizer, classifier]) \n",
    "\n",
    "model = pipeline.fit(df) \n",
    "prediction = model.transform(df) \n",
    "\n",
    "prediction.show() "
   ]
  },
  {
   "cell_type": "code",
   "execution_count": 37,
   "id": "87ff363b",
   "metadata": {},
   "outputs": [],
   "source": [
    "from pyspark.sql.types import IntegerType\n",
    "df = df.withColumn(\"age\",df[\"age\"].cast(IntegerType())) \n",
    "df = df.withColumn(\"hypertension\", df[\"hypertension\"].cast(IntegerType())) \n",
    "df = df.withColumn(\"heart_disease\", df[\"heart_disease\"].cast(IntegerType())) \n",
    "df = df.withColumn(\"avg_glucose_level\", df[\"avg_glucose_level\"].cast(IntegerType())) \n",
    "df = df.withColumn(\"bmi\", df[\"bmi\"].cast(IntegerType())) \n",
    "df = df.withColumn(\"stroke\", df[\"stroke\"].cast(IntegerType()))"
   ]
  },
  {
   "cell_type": "code",
   "execution_count": 69,
   "id": "8f7bec62",
   "metadata": {},
   "outputs": [
    {
     "data": {
      "text/plain": [
       "[('work_type', 'int')]"
      ]
     },
     "execution_count": 69,
     "metadata": {},
     "output_type": "execute_result"
    }
   ],
   "source": [
    "df.select(df['work_type']).dtypes"
   ]
  },
  {
   "cell_type": "code",
   "execution_count": 45,
   "id": "8fc0e7de",
   "metadata": {},
   "outputs": [],
   "source": [
    "df_train = prediction.drop('features').drop('gender').drop('age').drop('hypertension').drop('heart_disease').drop(\n",
    "'ever_married').drop('work_type').drop('Residence_type').drop('avg_glucose_level').drop('bmi').drop('smoking_status')"
   ]
  },
  {
   "cell_type": "code",
   "execution_count": 46,
   "id": "93b7bec2",
   "metadata": {},
   "outputs": [],
   "source": [
    "df_train = df_train.drop('gender_index').drop('ever_married_index').drop('Residence_type_index').drop('work_type_index').drop('smoking_status_index').drop('work_type_hot').drop('smoking_status_hot')"
   ]
  },
  {
   "cell_type": "code",
   "execution_count": 47,
   "id": "c437993f",
   "metadata": {},
   "outputs": [
    {
     "name": "stdout",
     "output_type": "stream",
     "text": [
      "+-----+------+----------+--------------------+--------------------+--------------------+----------+\n",
      "|   id|stroke|stroke_hot|       features_norm|       rawPrediction|         probability|prediction|\n",
      "+-----+------+----------+--------------------+--------------------+--------------------+----------+\n",
      "| 9046|     1| (1,[],[])|(15,[0,1,3,5,10,1...|[0.65015430224937...|[0.78588691609292...|       0.0|\n",
      "|51676|     1| (1,[],[])|(15,[1,6,9,10,11,...|[0.83598702900468...|[0.84183883689666...|       0.0|\n",
      "|31112|     1| (1,[],[])|(15,[0,1,3,5,9,10...|[0.84268231965137...|[0.84361359172168...|       0.0|\n",
      "|60182|     1| (1,[],[])|(15,[1,5,10,11],[...|[1.18102016165574...|[0.91388651043276...|       0.0|\n",
      "| 1665|     1| (1,[],[])|(15,[1,2,6,9,10,1...|[0.67709707642098...|[0.79481447501208...|       0.0|\n",
      "|56669|     1| (1,[],[])|(15,[0,1,5,10,11,...|[0.68736663693932...|[0.79814380883965...|       0.0|\n",
      "|53882|     1| (1,[],[])|[0.00564971751412...|[0.62357556017918...|[0.77680631690799...|       0.0|\n",
      "|10434|     1| (1,[],[])|(15,[1,4,5,10,11,...|[0.80051321719682...|[0.83216179461111...|       0.0|\n",
      "|27419|     1| (1,[],[])|(15,[1,5,9,10,11,...|[0.94505945036098...|[0.86876908695114...|       0.0|\n",
      "|60491|     1| (1,[],[])|(15,[1,5,10,11,13...|[0.79414443805447...|[0.83037522371266...|       0.0|\n",
      "|12109|     1| (1,[],[])|(15,[1,2,5,9,10,1...|[0.66598897160387...|[0.79116762157412...|       0.0|\n",
      "|12095|     1| (1,[],[])|(15,[1,3,8,9,10,1...|[0.70466415385927...|[0.80365997851166...|       0.0|\n",
      "|12175|     1| (1,[],[])|(15,[1,5,10,11],[...|[1.04456793709563...|[0.88984275028315...|       0.0|\n",
      "| 8213|     1| (1,[],[])|(15,[0,1,3,5,10,1...|[0.48591319024450...|[0.72548338444739...|       0.0|\n",
      "| 5317|     1| (1,[],[])|(15,[1,3,5,10,11,...|[0.48591319024450...|[0.72548338444739...|       0.0|\n",
      "|58202|     1| (1,[],[])|(15,[1,2,6,9,10,1...|[0.92150671215600...|[0.86330471016540...|       0.0|\n",
      "|56112|     1| (1,[],[])|(15,[0,1,3,5,10,1...|[1.11632739182572...|[0.90314383501475...|       0.0|\n",
      "|34120|     1| (1,[],[])|(15,[0,1,2,5,10,1...|[0.67307280557617...|[0.79349876837475...|       0.0|\n",
      "|27458|     1| (1,[],[])|(15,[1,4,5,10,11,...|[1.10758952715866...|[0.90160433781171...|       0.0|\n",
      "|25226|     1| (1,[],[])|(15,[0,1,3,4,8,10...|[-0.4120392223206...|[0.30489860577473...|       1.0|\n",
      "+-----+------+----------+--------------------+--------------------+--------------------+----------+\n",
      "only showing top 20 rows\n",
      "\n"
     ]
    }
   ],
   "source": [
    "df_train.show()"
   ]
  },
  {
   "cell_type": "code",
   "execution_count": 52,
   "id": "34a1ed4a",
   "metadata": {},
   "outputs": [
    {
     "data": {
      "text/plain": [
       "0.9540027402622823"
      ]
     },
     "execution_count": 52,
     "metadata": {},
     "output_type": "execute_result"
    }
   ],
   "source": [
    "from pyspark.ml.evaluation import MulticlassClassificationEvaluator \n",
    "from pyspark.mllib.evaluation import MulticlassMetrics\n",
    "binEval = MulticlassClassificationEvaluator().setMetricName(\"accuracy\") .setPredictionCol(\n",
    "    \"prediction\").setLabelCol(\"stroke\")\n",
    "    \n",
    "binEval.evaluate(prediction) \n",
    "\n"
   ]
  },
  {
   "cell_type": "code",
   "execution_count": 63,
   "id": "c8fc931e",
   "metadata": {},
   "outputs": [
    {
     "name": "stderr",
     "output_type": "stream",
     "text": [
      "/opt/spark/python/pyspark/sql/context.py:157: FutureWarning: Deprecated in 3.0.0. Use SparkSession.builder.getOrCreate() instead.\n",
      "  warnings.warn(\n"
     ]
    },
    {
     "name": "stdout",
     "output_type": "stream",
     "text": [
      "[[4.859e+03 1.000e+00]\n",
      " [2.340e+02 1.500e+01]]\n"
     ]
    }
   ],
   "source": [
    "preds_and_labels = df_train.select(['prediction','stroke']).withColumn('label', F.col('stroke').cast(FloatType())).orderBy('prediction')\n",
    "\n",
    "#select only prediction and label columns\n",
    "preds_and_labels = preds_and_labels.select(['prediction','label'])\n",
    "\n",
    "metrics = MulticlassMetrics(preds_and_labels.rdd.map(tuple))\n",
    "\n",
    "print(metrics.confusionMatrix().toArray())\n",
    "\n"
   ]
  },
  {
   "cell_type": "code",
   "execution_count": 62,
   "id": "d0bb19a6",
   "metadata": {},
   "outputs": [],
   "source": [
    "import pyspark.sql.functions as F  \n",
    "from pyspark.sql.types import FloatType  "
   ]
  },
  {
   "cell_type": "code",
   "execution_count": 65,
   "id": "58091f07",
   "metadata": {},
   "outputs": [
    {
     "data": {
      "text/plain": [
       "5109"
      ]
     },
     "execution_count": 65,
     "metadata": {},
     "output_type": "execute_result"
    }
   ],
   "source": [
    "df_train.count() "
   ]
  },
  {
   "cell_type": "code",
   "execution_count": null,
   "id": "83decc38",
   "metadata": {},
   "outputs": [],
   "source": []
  }
 ],
 "metadata": {
  "kernelspec": {
   "display_name": "Python 3 (ipykernel)",
   "language": "python",
   "name": "python3"
  },
  "language_info": {
   "codemirror_mode": {
    "name": "ipython",
    "version": 3
   },
   "file_extension": ".py",
   "mimetype": "text/x-python",
   "name": "python",
   "nbconvert_exporter": "python",
   "pygments_lexer": "ipython3",
   "version": "3.9.12"
  }
 },
 "nbformat": 4,
 "nbformat_minor": 5
}
